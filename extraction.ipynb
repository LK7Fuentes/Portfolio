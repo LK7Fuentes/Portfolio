{
 "cells": [
  {
   "cell_type": "markdown",
   "metadata": {},
   "source": [
    "# Data Extraction"
   ]
  },
  {
   "cell_type": "code",
   "execution_count": 1,
   "metadata": {},
   "outputs": [],
   "source": [
    "import requests\n",
    "from urllib.parse import urlencode\n",
    "import settings\n",
    "import pandas as pd\n",
    "from bs4 import BeautifulSoup\n",
    "import urllib.parse\n",
    "import time"
   ]
  },
  {
   "cell_type": "code",
   "execution_count": 2,
   "metadata": {},
   "outputs": [],
   "source": [
    "def summ_puuid_extraction(n):\n",
    "    summoner_dict = {}  # Initialize the dictionary outside the loop\n",
    "    \n",
    "    for i in range(1, n + 1):\n",
    "        url = f'https://www.op.gg/leaderboards/tier?region=lan&type=ladder&page={i}&tier=diamond'\n",
    "        response = requests.get(url)\n",
    "        # Print the response for each page\n",
    "        if response.status_code == 200:\n",
    "            print(f\"Successfully fetched the page {i}\")\n",
    "        else:\n",
    "            print(f\"Failed to fetch the page {i}, status code: {response.status_code}\")\n",
    "            continue\n",
    "\n",
    "        soup = BeautifulSoup(response.content, 'html.parser')\n",
    "        links = soup.find_all('a')  # Find all <a> tags, which are links\n",
    "        urls = [link.get('href') for link in links if link.get('href')]\n",
    "\n",
    "        # Extract summoner URLs and decode them\n",
    "        summoner_urls = [url for url in urls if '/summoners/lan/' in url]\n",
    "        summoner_names = [url.split('/summoners/lan/')[1] for url in summoner_urls]\n",
    "        summoner_names = [urllib.parse.unquote(name) for name in summoner_names]\n",
    "\n",
    "        # Populate the dictionary with summoner names and taglines\n",
    "        for name in summoner_names:\n",
    "            if '-' in name:\n",
    "                summoner, tagline = name.rsplit('-', 1)  # Split at the last occurrence of '-'\n",
    "                summoner_dict[summoner.strip()] = tagline.strip()\n",
    "            else:\n",
    "                summoner_dict[name.strip()] = \"LAN\"  # Default tagline for names without taglines\n",
    "\n",
    "    return summoner_dict\n"
   ]
  },
  {
   "cell_type": "code",
   "execution_count": 3,
   "metadata": {},
   "outputs": [
    {
     "name": "stdout",
     "output_type": "stream",
     "text": [
      "Successfully fetched the page 1\n",
      "Successfully fetched the page 2\n"
     ]
    }
   ],
   "source": [
    "summoner_dict=summ_puuid_extraction(2)"
   ]
  },
  {
   "cell_type": "code",
   "execution_count": 4,
   "metadata": {},
   "outputs": [
    {
     "data": {
      "text/plain": [
       "{'McLovin Musulmán': '6382',\n",
       " 'Víner33': 'LAN',\n",
       " 'mind control': 'geass',\n",
       " 'Lunelle': 'Sejin',\n",
       " 'xDarkrastarx': 'LAN1',\n",
       " 'Renyi': 'R10',\n",
       " 'jjk': 'LAN',\n",
       " 'Tekiku': 'LAN',\n",
       " 'DannyDk': 'LAN',\n",
       " 'Catcissa': 'owo',\n",
       " 'Vanitas': 'PSM',\n",
       " 'FIosd': 'LAN',\n",
       " 'Alex': 'Chall',\n",
       " 'Vísion': 'LAN',\n",
       " 'Virick': '1108',\n",
       " 'Fluttershy': 'Kpop',\n",
       " 'FlexAle': '12345',\n",
       " 'MaJo Eulog': '2021',\n",
       " 'TwTv 21souls': '2121',\n",
       " 'Blue Änd Red': 'LAN',\n",
       " 'Melgem': 'CLN',\n",
       " 'JoyBoyƒ': '1998',\n",
       " 'Nolan Grayson': 'Sweg',\n",
       " 'Ioser': 'LAN',\n",
       " 'D4niel': 'LAN',\n",
       " 'VI7': 'LAN',\n",
       " 'Thankfhort': 'LAN',\n",
       " 'JarchisParchis': 'LAN',\n",
       " 'Stitch': 'ali69',\n",
       " 'Taquit0 on Fire': 'LAN',\n",
       " 'Halloween': 'LAN',\n",
       " 'Boing de Consome': 'LAN',\n",
       " 'Phoebe Buffay': 'sunxi',\n",
       " 'Chu 可愛くてごめん': '可愛い',\n",
       " 'Voltaic Dux': 'SMURF',\n",
       " 'kupperto': 'LAN',\n",
       " 'SirChubby': 'LAN',\n",
       " 'CatWell': 'Dry',\n",
       " 'Enxyy': 'LAN',\n",
       " 'DLuXe': 'LAN',\n",
       " 'Prowled': 'Crow',\n",
       " 'MordeKaiserion': 'MDKSR',\n",
       " 'Tonantzin': 'LAN',\n",
       " 'Juancho Rois': '1002',\n",
       " 'Grey': 'luv',\n",
       " 'Mr Boulsack': '4704',\n",
       " 'Dacrax': 'LAN',\n",
       " 'te amo mapache': 'toki',\n",
       " 'Only2Géneros': 'OnTop',\n",
       " 'Mr Zincin 神': 'すごい',\n",
       " 'Vanilla Uzi': 'LUA',\n",
       " 'Sirius Can': 'CAN',\n",
       " 'Adam': 'LOL',\n",
       " 'MFT 2D90PL': 'MFT',\n",
       " 'Sniider': 'LAN',\n",
       " 'Zaun': '229',\n",
       " 'Nonskill': 'LAN',\n",
       " 'Int account': 'LAN3',\n",
       " 'Delincuente': 'ddgod',\n",
       " 'AlexDC': 'LAN',\n",
       " '101010': 'Lord',\n",
       " 'El Señor Alpaca': 'LAN',\n",
       " 'Gambit': 'Lic',\n",
       " 'KrashKira': 'LAN',\n",
       " 'Psicóloga Lola': '5023',\n",
       " 'JoseChachi10': 'JC10',\n",
       " 'Sink em all    l': 'LAN',\n",
       " 'TLX SpartanDarks': 'LAN',\n",
       " 'brunoSImatabebés': 'LAN',\n",
       " 'Partox Y': 'LAN',\n",
       " 'Gosu': 'Noir',\n",
       " 'One Euro Burger': 'LAN',\n",
       " 'u knw we lk good': 'Megui',\n",
       " 'PokiSync': 'LAN',\n",
       " 'LucaYT': 'LAN',\n",
       " 'Kuribayashi': 'SSN',\n",
       " 'excoronel21': 'LAN',\n",
       " 'iny': 'mat',\n",
       " 'jus': '001',\n",
       " '그리움': '기억속',\n",
       " 'Tînto': '1106',\n",
       " 'PTR Nannini': 'LAN',\n",
       " 'Rodri3101': 'JGDIF',\n",
       " 'Medusa': 'CLN',\n",
       " 'Nighttmare': 'LAN',\n",
       " 'Rarity': 'petty',\n",
       " 'BloodDragon343': '2058',\n",
       " 'Unfading': 'Sigh',\n",
       " 'Joy': 'Istar',\n",
       " 'Kasatka06': 'LAN',\n",
       " 'T1theOne': 'LAN',\n",
       " 'Devil': '26120',\n",
       " 'Daryl Dixón': 'LAN',\n",
       " 'Cokoliso': 'LAN',\n",
       " 'Nya Yamete': 'Nya',\n",
       " 'SweetMeli': 'Shrew',\n",
       " 'ES EL LAG': 'LAN',\n",
       " 'Espaba': 'LAN',\n",
       " 'FreeSoulXS': 'LAN',\n",
       " 'VoiD Axel Rous': 'LAN',\n",
       " 'Trøllkypønky': 'LAN',\n",
       " 'Ghost Rider': 'LAN1',\n",
       " 'Soft': 'less',\n",
       " 'nas': '2306',\n",
       " 'Paloma Violencia': '0811',\n",
       " 'lax': '1530',\n",
       " 'Akeva': 'UMSR',\n",
       " 'SCORDEST': '3792',\n",
       " 'ÐGott': 'LAN',\n",
       " 'ZFernand': 'Bones',\n",
       " 'Pimpin': 'RnB',\n",
       " 'Dyan Destiny': 'LAN',\n",
       " 'Milk': 'wao',\n",
       " 'Fudy23': 'LAN',\n",
       " 'Emott99': 'LAN',\n",
       " 'Renegacion': 'LAN',\n",
       " 'Xealer': '0612',\n",
       " 'Disocied N3der': 'n3der',\n",
       " 'Gaang': 'LAN',\n",
       " 'Ryukanji': 'LAN',\n",
       " 'Boomer': 'LAN',\n",
       " 'Jossimar': '2003',\n",
       " 'FRSFiora': '6666',\n",
       " 'midnight390': 'LAN',\n",
       " 'Habavep': 'Mute',\n",
       " 'Lezzz': 'LAN',\n",
       " 'Haxwell': 'LAN',\n",
       " 'jjettas': '1369',\n",
       " 'Eishi': 'WAU',\n",
       " 'Raaay': 'LAN',\n",
       " 'KA Kasu': 'André',\n",
       " 'Hotcake': 'MOB',\n",
       " 'Badwine': 'LAN',\n",
       " 'Nagi Seishiro': 'idgaf',\n",
       " 'Bani': '444',\n",
       " 'x4x': 'LAN',\n",
       " 'AtOrU': 'LAN',\n",
       " 'Ryudamn': 'LAN',\n",
       " 'L morningstar': 'Lmor',\n",
       " 'Neroslike': 'LAN',\n",
       " '122023': 'LAN',\n",
       " 'Chostin': 'space',\n",
       " 'Rafa Romo': 'goat1',\n",
       " 'Esteman': 'GOAT',\n",
       " 'Sunny Shelby': 'Peaky',\n",
       " 'kia': 'unu',\n",
       " 'Hide on Max': 'Max',\n",
       " '404TopNotFound': 'ERROR',\n",
       " 'Just Crazy': 'TAP',\n",
       " 'Skeleangel': 'LAN',\n",
       " 'Lil Bewy': 'LAN',\n",
       " 'Fairy Dragon': '0000',\n",
       " 'ElPoposeidon': 'LAN',\n",
       " 'Lµµffy': '240',\n",
       " 'SnowPlus': 'LAN',\n",
       " 'BestOtpLeblanc': '5997',\n",
       " 'Manjarres': 'pum',\n",
       " 'Sayonara Gokko': 'XDDD',\n",
       " 'KazumaNy14': 'LAN',\n",
       " 'Die For You': '1701',\n",
       " 'GoodGentleman': '5596',\n",
       " 'Gëorgie': 'LAN',\n",
       " 'hachigen': 'LAN',\n",
       " 'TW JH Ars Magnus': 'LAN',\n",
       " 'Daninfiniti': 'LAN',\n",
       " 'Suummy': 'Dumy',\n",
       " 'Cristianrsh': 'LAN',\n",
       " 'Holejazz': 'LAN',\n",
       " 'GPI Derklen': 'Aiuda',\n",
       " 'Szk': '7772',\n",
       " 'Goldeon': '808',\n",
       " 'arashyyy': '777',\n",
       " 'Twitch TheDeivyx': 'LAN',\n",
       " 'Times Like These': 'EDEN',\n",
       " 'N E O 〆': 'neo',\n",
       " 'El Capy': '4444',\n",
       " 'Gorerelic': 'LAN',\n",
       " 'Goyi': 'Tata',\n",
       " 'Sazz': 'TTV',\n",
       " 'Dokyle': 'UANL',\n",
       " 'ñeñe poñs': '5725',\n",
       " 'Yoichi Isagi': 'MGC',\n",
       " 'ARA Elokriix': 'ARA',\n",
       " 'Lettuce': 'LAN',\n",
       " 'Hija Del Hielo': '0707',\n",
       " 'Ekitzzz': 'LAN',\n",
       " 'MARS 74': 'LAN',\n",
       " 'zalazar': 'LAN',\n",
       " 'ExpelledSoul': 'MAX',\n",
       " 'Ápøllø': 'LAN',\n",
       " 'Brandeke': '666',\n",
       " 'Seawhisper': 'NELLA',\n",
       " 'Twisted Feid': 'LAN',\n",
       " 'La Criofénix': 'LAN',\n",
       " 'McGregorr': 'LAN',\n",
       " 'Gonchi': 'LAN',\n",
       " 'Heroes Never Die': 'LAN',\n",
       " 'Twtv Shieldworm': 'Med',\n",
       " 'TB Fuyuki': 'LAN',\n",
       " 'GET PYK3D': 'LAN'}"
      ]
     },
     "execution_count": 4,
     "metadata": {},
     "output_type": "execute_result"
    }
   ],
   "source": [
    "summoner_dict"
   ]
  },
  {
   "cell_type": "code",
   "execution_count": 5,
   "metadata": {},
   "outputs": [
    {
     "name": "stdout",
     "output_type": "stream",
     "text": [
      "200\n"
     ]
    }
   ],
   "source": [
    "print(len(summoner_dict))"
   ]
  },
  {
   "cell_type": "markdown",
   "metadata": {},
   "source": [
    "The next block is focused in adding the PUUID into the existing dictionary and obtaining the match history ids. "
   ]
  },
  {
   "cell_type": "code",
   "execution_count": 6,
   "metadata": {},
   "outputs": [],
   "source": [
    "def get_puuids(data_dict):\n",
    "\n",
    "    puuid_list = []  # Initialize an empty list to store puuid values\n",
    "    request_count_per_second = 0  # Track the number of requests made\n",
    "    request_count_per_2min = 0\n",
    "    start_time = time.time()  # Record the start time for rate-limiting checks\n",
    "\n",
    "    for summoner, tagline in data_dict.items():\n",
    "        # Rate limiting: Ensure no more than 20 requests per second\n",
    "        if request_count_per_second >= 20:\n",
    "            time_elapsed = time.time() - start_time\n",
    "            if time_elapsed < 1:  # Less than a second has passed\n",
    "                time.sleep(1 - time_elapsed)  # Wait for the remaining time\n",
    "            start_time = time.time()  # Reset the start time\n",
    "            request_count_per_second = 0  # Reset the request counter\n",
    "\n",
    "        # Rate limiting: Ensure no more than 100 requests every 2 minutes\n",
    "        if request_count_per_2min >= 100:\n",
    "            time_elapsed = time.time() - start_time\n",
    "            if time_elapsed < 120:  # Less than 2 minutes have passed\n",
    "                time.sleep(120 - time_elapsed)  # Wait for the remaining time\n",
    "            start_time = time.time()  # Reset the start time\n",
    "            request_count_per_2min = 0  # Reset the request counter\n",
    "\n",
    "        try:\n",
    "            # Construct the URL using the summoner name and tagline\n",
    "            url = f'https://americas.api.riotgames.com/riot/account/v1/accounts/by-riot-id/{summoner}/{tagline}?api_key={settings.API_KEY}'\n",
    "            \n",
    "            # Fetch data from the URL\n",
    "            response = requests.get(url)\n",
    "            response.raise_for_status()  # Raise HTTPError for bad responses (4xx and 5xx)\n",
    "            \n",
    "            # Extract 'puuid' from the response JSON\n",
    "            fetched_data = response.json()\n",
    "            puuid = fetched_data.get(\"puuid\")\n",
    "            \n",
    "            # Add the 'puuid' to the list if it exists\n",
    "            if puuid:\n",
    "                puuid_list.append(puuid)\n",
    "            \n",
    "            request_count_per_second += 1  # Increment the request count\n",
    "            request_count_per_2min += 1  # Increment the request count\n",
    "\n",
    "        except requests.RequestException as e:\n",
    "            # Extract the error number\n",
    "            error_message = str(e).split()\n",
    "            error_num = error_message[0] if len(error_message) > 0 else \"Unknown\"\n",
    "\n",
    "            print(f\"Error fetching data for {summoner} (tagline:{tagline}): {error_num}\")\n",
    "\n",
    "            # If error number is 429, pause for 2 minutes\n",
    "            if error_num == \"429\":\n",
    "                print(\"Rate limit reached. Pausing for 2 minutes...\")\n",
    "                time.sleep(120)  # Wait for 2 minutes\n",
    "\n",
    "    return puuid_list\n"
   ]
  },
  {
   "cell_type": "code",
   "execution_count": 8,
   "metadata": {},
   "outputs": [
    {
     "data": {
      "text/plain": [
       "['qIc0d3YQSvxrrWC4XXSvK0MLy9-A0X2LYewXkpORTsunZnEjVVNx9HyV-pUYYtyRaOe_d2XKTgaHbw']"
      ]
     },
     "execution_count": 8,
     "metadata": {},
     "output_type": "execute_result"
    }
   ],
   "source": [
    "dict_prueba={'LK7%20Mr%20Fuentes':'LAN'}\n",
    "lista_prueba= get_puuids(dict_prueba)\n",
    "lista_prueba"
   ]
  },
  {
   "cell_type": "code",
   "execution_count": 9,
   "metadata": {},
   "outputs": [
    {
     "name": "stdout",
     "output_type": "stream",
     "text": [
      "Error fetching data for TwTv 21souls (tagline:2121): 404\n",
      "Error fetching data for Grey (tagline:luv): 404\n",
      "Error fetching data for VoiD Axel Rous (tagline:LAN): 429\n",
      "Rate limit reached. Pausing for 2 minutes...\n",
      "Error fetching data for 404TopNotFound (tagline:ERROR): 404\n",
      "Error fetching data for TW JH Ars Magnus (tagline:LAN): 404\n"
     ]
    }
   ],
   "source": [
    "puuids= get_puuids(summoner_dict)"
   ]
  },
  {
   "cell_type": "code",
   "execution_count": 10,
   "metadata": {},
   "outputs": [],
   "source": [
    "def get_matches(puuid_list):\n",
    "\n",
    "    match_list = []  # Initialize an empty list to store match id values\n",
    "    request_count_per_second = 0  # Track the number of requests made\n",
    "    request_count_per_2min = 0\n",
    "    start_time = time.time()  # Record the start time for rate-limiting checks\n",
    "\n",
    "    for puuid in puuid_list:\n",
    "        # Rate limiting: Ensure no more than 20 requests per second\n",
    "        if request_count_per_second >= 20:\n",
    "            time_elapsed = time.time() - start_time\n",
    "            if time_elapsed < 1:  # Less than a second has passed\n",
    "                time.sleep(1 - time_elapsed)  # Wait for the remaining time\n",
    "            start_time = time.time()  # Reset the start time\n",
    "            request_count_per_second = 0  # Reset the request counter\n",
    "\n",
    "        # Rate limiting: Ensure no more than 100 requests every 2 minutes\n",
    "        if request_count_per_2min >= 100:\n",
    "            time_elapsed = time.time() - start_time\n",
    "            if time_elapsed < 120:  # Less than 2 minutes have passed\n",
    "                time.sleep(120 - time_elapsed)  # Wait for the remaining time\n",
    "            start_time = time.time()  # Reset the start time\n",
    "            request_count_per_2min = 0  # Reset the request counter\n",
    "\n",
    "\n",
    "        try:\n",
    "            # Construct the URL using the summoner name and tagline\n",
    "            url = f'https://americas.api.riotgames.com/lol/match/v5/matches/by-puuid/{puuid}/ids?start=0&count=20&api_key={settings.API_KEY}'\n",
    "            \n",
    "            # Fetch data from the URL\n",
    "            response = requests.get(url)\n",
    "            response.raise_for_status()  # Raise HTTPError for bad responses (4xx and 5xx)\n",
    "            \n",
    "            # Extract 'puuid' from the response JSON\n",
    "            match_ids = response.json()\n",
    "            \n",
    "            \n",
    "            # Add the 'puuid' to the list if it exists\n",
    "            if match_ids:\n",
    "                match_list.extend(match_ids)\n",
    "            \n",
    "            request_count_per_second += 1  # Increment the request count\n",
    "            request_count_per_2min += 1 # Increment the request count\n",
    "        except requests.RequestException as e:\n",
    "\n",
    "              # Extract the error number\n",
    "            error_message = str(e).split()\n",
    "            error_num = error_message[0] if len(error_message) > 0 else \"Unknown\"\n",
    "\n",
    "            print(f\"Error fetching data for puuid {puuid} : {error_num}\")\n",
    "\n",
    "            # If error number is 429, pause for 2 minutes\n",
    "            if error_num == \"429\":\n",
    "                print(\"Rate limit reached. Pausing for 2 minutes...\")\n",
    "                time.sleep(120)  # Wait for 2 minutes\n",
    "\n",
    "\n",
    "    return match_list"
   ]
  },
  {
   "cell_type": "code",
   "execution_count": 11,
   "metadata": {},
   "outputs": [
    {
     "data": {
      "text/plain": [
       "['LA1_1578542376',\n",
       " 'LA1_1578427839',\n",
       " 'LA1_1578419356',\n",
       " 'LA1_1578274283',\n",
       " 'LA1_1578252563',\n",
       " 'LA1_1578236621',\n",
       " 'LA1_1577941878',\n",
       " 'LA1_1577929393',\n",
       " 'LA1_1577360135',\n",
       " 'LA1_1577355054',\n",
       " 'LA1_1577277049',\n",
       " 'LA1_1577255380',\n",
       " 'LA1_1577175838',\n",
       " 'LA1_1577160459',\n",
       " 'LA1_1577012840',\n",
       " 'LA1_1577009130',\n",
       " 'LA1_1576997416',\n",
       " 'LA1_1576979172',\n",
       " 'LA1_1576959633',\n",
       " 'LA1_1576639985']"
      ]
     },
     "execution_count": 11,
     "metadata": {},
     "output_type": "execute_result"
    }
   ],
   "source": [
    "list_match_prueba= get_matches(lista_prueba)\n",
    "list_match_prueba"
   ]
  },
  {
   "cell_type": "code",
   "execution_count": 12,
   "metadata": {},
   "outputs": [
    {
     "name": "stdout",
     "output_type": "stream",
     "text": [
      "Error fetching data for puuid 2MeQ-yF32YFa57gorj4T45pDGe_58bw5NpmzCO4DXX41IQD8pvMuBb3FxtQOumR0k_oI7fi6t5vlZw : 429\n",
      "Rate limit reached. Pausing for 2 minutes...\n"
     ]
    }
   ],
   "source": [
    "match_list=get_matches(puuids)"
   ]
  },
  {
   "cell_type": "code",
   "execution_count": 15,
   "metadata": {},
   "outputs": [
    {
     "data": {
      "text/plain": [
       "3880"
      ]
     },
     "execution_count": 15,
     "metadata": {},
     "output_type": "execute_result"
    }
   ],
   "source": [
    "len(match_list)"
   ]
  },
  {
   "cell_type": "code",
   "execution_count": 16,
   "metadata": {},
   "outputs": [],
   "source": [
    "def get_matches_info(match_id_list):\n",
    "\n",
    "    df=pd.DataFrame()\n",
    "    request_count_per_second = 0  # Track the number of requests made\n",
    "    request_count_per_2min = 0\n",
    "    start_time = time.time()  # Record the start time for rate-limiting checks\n",
    "\n",
    "    for match in match_id_list:\n",
    "        # Rate limiting: Ensure no more than 20 requests per second\n",
    "        if request_count_per_second >= 20:\n",
    "            time_elapsed = time.time() - start_time\n",
    "            if time_elapsed < 1:  # Less than a second has passed\n",
    "                time.sleep(1 - time_elapsed)  # Wait for the remaining time\n",
    "            start_time = time.time()  # Reset the start time\n",
    "            request_count_per_second = 0  # Reset the request counter\n",
    "\n",
    "        # Rate limiting: Ensure no more than 100 requests every 2 minutes\n",
    "        if request_count_per_2min >= 100:\n",
    "            time_elapsed = time.time() - start_time\n",
    "            if time_elapsed < 120:  # Less than 2 minutes have passed\n",
    "                time.sleep(120 - time_elapsed)  # Wait for the remaining time\n",
    "            start_time = time.time()  # Reset the start time\n",
    "            request_count_per_2min = 0  # Reset the request counter\n",
    "\n",
    "        try:\n",
    "            # Construct the URL using the summoner name and tagline\n",
    "            url = f' https://americas.api.riotgames.com/lol/match/v5/matches/{match}?api_key={settings.API_KEY}'\n",
    "            \n",
    "            # Fetch data from the URL\n",
    "            response = requests.get(url)\n",
    "            response.raise_for_status()  # Raise HTTPError for bad responses (4xx and 5xx)\n",
    "            \n",
    "            # Extract 'puuid' from the response JSON\n",
    "            match_dict = response.json()\n",
    "            match_info = match_dict['info']\n",
    "            queu_Id=match_dict['info']['queueId']\n",
    "            participants_df = pd.json_normalize(match_info['participants'])\n",
    "\n",
    "            # Merge the team and participant details into the main DataFrame\n",
    "            df = pd.concat([df, participants_df])  \n",
    "            df ['queu_Id']= queu_Id\n",
    "\n",
    "\n",
    "            request_count_per_second += 1  # Increment the request count\n",
    "            request_count_per_2min += 1  # Increment the request count\n",
    "        except requests.RequestException as e:\n",
    "            \n",
    "            # Extract the error number\n",
    "            error_message = str(e).split()\n",
    "            error_num = error_message[0] if len(error_message) > 0 else \"Unknown\"\n",
    "\n",
    "            print(f\"Error fetching data for match {match} : {error_num}\")\n",
    "\n",
    "            # If error number is 429, pause for 2 minutes\n",
    "            if error_num == \"429\":\n",
    "                print(\"Rate limit reached. Pausing for 2 minutes...\")\n",
    "                time.sleep(120)  # Wait for 2 minutes\n",
    "\n",
    "    return df"
   ]
  },
  {
   "cell_type": "code",
   "execution_count": 17,
   "metadata": {},
   "outputs": [
    {
     "name": "stdout",
     "output_type": "stream",
     "text": [
      "Error fetching data for match LA1_1577941878 : 429\n",
      "Rate limit reached. Pausing for 2 minutes...\n",
      "<class 'pandas.core.frame.DataFrame'>\n",
      "Int64Index: 190 entries, 0 to 9\n",
      "Columns: 289 entries, allInPings to challenges.hadAfkTeammate\n",
      "dtypes: bool(9), float64(38), int64(230), object(12)\n",
      "memory usage: 418.8+ KB\n"
     ]
    }
   ],
   "source": [
    "df_prueba=get_matches_info(list_match_prueba)\n",
    "df_prueba.info()"
   ]
  },
  {
   "cell_type": "code",
   "execution_count": null,
   "metadata": {},
   "outputs": [],
   "source": [
    "match_list_cut=match_list[:1000]"
   ]
  },
  {
   "cell_type": "code",
   "execution_count": 19,
   "metadata": {},
   "outputs": [
    {
     "name": "stdout",
     "output_type": "stream",
     "text": [
      "1000\n"
     ]
    }
   ],
   "source": [
    "print(len(match_list_cut))"
   ]
  },
  {
   "cell_type": "code",
   "execution_count": 20,
   "metadata": {},
   "outputs": [],
   "source": [
    "raw_df= get_matches_info(match_list_cut)\n"
   ]
  },
  {
   "cell_type": "code",
   "execution_count": 21,
   "metadata": {},
   "outputs": [
    {
     "name": "stdout",
     "output_type": "stream",
     "text": [
      "<class 'pandas.core.frame.DataFrame'>\n",
      "Int64Index: 10000 entries, 0 to 9\n",
      "Columns: 290 entries, allInPings to challenges.hadAfkTeammate\n",
      "dtypes: bool(9), float64(39), int64(230), object(12)\n",
      "memory usage: 21.6+ MB\n"
     ]
    }
   ],
   "source": [
    "raw_df.info()"
   ]
  },
  {
   "cell_type": "code",
   "execution_count": 22,
   "metadata": {},
   "outputs": [],
   "source": [
    "raw_df.to_csv('./raw.csv')"
   ]
  }
 ],
 "metadata": {
  "kernelspec": {
   "display_name": "Python 3",
   "language": "python",
   "name": "python3"
  },
  "language_info": {
   "codemirror_mode": {
    "name": "ipython",
    "version": 3
   },
   "file_extension": ".py",
   "mimetype": "text/x-python",
   "name": "python",
   "nbconvert_exporter": "python",
   "pygments_lexer": "ipython3",
   "version": "3.11.0"
  }
 },
 "nbformat": 4,
 "nbformat_minor": 2
}
